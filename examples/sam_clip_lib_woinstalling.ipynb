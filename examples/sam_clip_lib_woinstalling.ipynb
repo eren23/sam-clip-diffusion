{
  "nbformat": 4,
  "nbformat_minor": 0,
  "metadata": {
    "colab": {
      "provenance": []
    },
    "kernelspec": {
      "name": "python3",
      "display_name": "Python 3"
    },
    "language_info": {
      "name": "python"
    },
    "accelerator": "GPU",
    "gpuClass": "standard",
    "widgets": {
      "application/vnd.jupyter.widget-state+json": {
        "b7333fc71c3c462fabd0e01d71c02b38": {
          "model_module": "@jupyter-widgets/controls",
          "model_name": "HBoxModel",
          "model_module_version": "1.5.0",
          "state": {
            "_dom_classes": [],
            "_model_module": "@jupyter-widgets/controls",
            "_model_module_version": "1.5.0",
            "_model_name": "HBoxModel",
            "_view_count": null,
            "_view_module": "@jupyter-widgets/controls",
            "_view_module_version": "1.5.0",
            "_view_name": "HBoxView",
            "box_style": "",
            "children": [
              "IPY_MODEL_592d0fc9542a44f2bd07386234e6f37b",
              "IPY_MODEL_c93e626c0aaa4aeda7abf45dad18e729",
              "IPY_MODEL_ea8e803a5fb34a3ab3c962dc24079c14"
            ],
            "layout": "IPY_MODEL_2333dda994d948e6bb46a3277467a590"
          }
        },
        "592d0fc9542a44f2bd07386234e6f37b": {
          "model_module": "@jupyter-widgets/controls",
          "model_name": "HTMLModel",
          "model_module_version": "1.5.0",
          "state": {
            "_dom_classes": [],
            "_model_module": "@jupyter-widgets/controls",
            "_model_module_version": "1.5.0",
            "_model_name": "HTMLModel",
            "_view_count": null,
            "_view_module": "@jupyter-widgets/controls",
            "_view_module_version": "1.5.0",
            "_view_name": "HTMLView",
            "description": "",
            "description_tooltip": null,
            "layout": "IPY_MODEL_cebe4a9b8c9e444194be3fa86dc0908a",
            "placeholder": "​",
            "style": "IPY_MODEL_571ae963e60e4dce89e002896150375a",
            "value": "Fetching 13 files: 100%"
          }
        },
        "c93e626c0aaa4aeda7abf45dad18e729": {
          "model_module": "@jupyter-widgets/controls",
          "model_name": "FloatProgressModel",
          "model_module_version": "1.5.0",
          "state": {
            "_dom_classes": [],
            "_model_module": "@jupyter-widgets/controls",
            "_model_module_version": "1.5.0",
            "_model_name": "FloatProgressModel",
            "_view_count": null,
            "_view_module": "@jupyter-widgets/controls",
            "_view_module_version": "1.5.0",
            "_view_name": "ProgressView",
            "bar_style": "success",
            "description": "",
            "description_tooltip": null,
            "layout": "IPY_MODEL_00a168eac61042238f6d63e4c117089b",
            "max": 13,
            "min": 0,
            "orientation": "horizontal",
            "style": "IPY_MODEL_f423305633b240c6a87645782d81cfc2",
            "value": 13
          }
        },
        "ea8e803a5fb34a3ab3c962dc24079c14": {
          "model_module": "@jupyter-widgets/controls",
          "model_name": "HTMLModel",
          "model_module_version": "1.5.0",
          "state": {
            "_dom_classes": [],
            "_model_module": "@jupyter-widgets/controls",
            "_model_module_version": "1.5.0",
            "_model_name": "HTMLModel",
            "_view_count": null,
            "_view_module": "@jupyter-widgets/controls",
            "_view_module_version": "1.5.0",
            "_view_name": "HTMLView",
            "description": "",
            "description_tooltip": null,
            "layout": "IPY_MODEL_88cf3ac786d84db79219772890a112f9",
            "placeholder": "​",
            "style": "IPY_MODEL_166a7651b2cb4a68b461216906f5785b",
            "value": " 13/13 [00:00&lt;00:00, 439.85it/s]"
          }
        },
        "2333dda994d948e6bb46a3277467a590": {
          "model_module": "@jupyter-widgets/base",
          "model_name": "LayoutModel",
          "model_module_version": "1.2.0",
          "state": {
            "_model_module": "@jupyter-widgets/base",
            "_model_module_version": "1.2.0",
            "_model_name": "LayoutModel",
            "_view_count": null,
            "_view_module": "@jupyter-widgets/base",
            "_view_module_version": "1.2.0",
            "_view_name": "LayoutView",
            "align_content": null,
            "align_items": null,
            "align_self": null,
            "border": null,
            "bottom": null,
            "display": null,
            "flex": null,
            "flex_flow": null,
            "grid_area": null,
            "grid_auto_columns": null,
            "grid_auto_flow": null,
            "grid_auto_rows": null,
            "grid_column": null,
            "grid_gap": null,
            "grid_row": null,
            "grid_template_areas": null,
            "grid_template_columns": null,
            "grid_template_rows": null,
            "height": null,
            "justify_content": null,
            "justify_items": null,
            "left": null,
            "margin": null,
            "max_height": null,
            "max_width": null,
            "min_height": null,
            "min_width": null,
            "object_fit": null,
            "object_position": null,
            "order": null,
            "overflow": null,
            "overflow_x": null,
            "overflow_y": null,
            "padding": null,
            "right": null,
            "top": null,
            "visibility": null,
            "width": null
          }
        },
        "cebe4a9b8c9e444194be3fa86dc0908a": {
          "model_module": "@jupyter-widgets/base",
          "model_name": "LayoutModel",
          "model_module_version": "1.2.0",
          "state": {
            "_model_module": "@jupyter-widgets/base",
            "_model_module_version": "1.2.0",
            "_model_name": "LayoutModel",
            "_view_count": null,
            "_view_module": "@jupyter-widgets/base",
            "_view_module_version": "1.2.0",
            "_view_name": "LayoutView",
            "align_content": null,
            "align_items": null,
            "align_self": null,
            "border": null,
            "bottom": null,
            "display": null,
            "flex": null,
            "flex_flow": null,
            "grid_area": null,
            "grid_auto_columns": null,
            "grid_auto_flow": null,
            "grid_auto_rows": null,
            "grid_column": null,
            "grid_gap": null,
            "grid_row": null,
            "grid_template_areas": null,
            "grid_template_columns": null,
            "grid_template_rows": null,
            "height": null,
            "justify_content": null,
            "justify_items": null,
            "left": null,
            "margin": null,
            "max_height": null,
            "max_width": null,
            "min_height": null,
            "min_width": null,
            "object_fit": null,
            "object_position": null,
            "order": null,
            "overflow": null,
            "overflow_x": null,
            "overflow_y": null,
            "padding": null,
            "right": null,
            "top": null,
            "visibility": null,
            "width": null
          }
        },
        "571ae963e60e4dce89e002896150375a": {
          "model_module": "@jupyter-widgets/controls",
          "model_name": "DescriptionStyleModel",
          "model_module_version": "1.5.0",
          "state": {
            "_model_module": "@jupyter-widgets/controls",
            "_model_module_version": "1.5.0",
            "_model_name": "DescriptionStyleModel",
            "_view_count": null,
            "_view_module": "@jupyter-widgets/base",
            "_view_module_version": "1.2.0",
            "_view_name": "StyleView",
            "description_width": ""
          }
        },
        "00a168eac61042238f6d63e4c117089b": {
          "model_module": "@jupyter-widgets/base",
          "model_name": "LayoutModel",
          "model_module_version": "1.2.0",
          "state": {
            "_model_module": "@jupyter-widgets/base",
            "_model_module_version": "1.2.0",
            "_model_name": "LayoutModel",
            "_view_count": null,
            "_view_module": "@jupyter-widgets/base",
            "_view_module_version": "1.2.0",
            "_view_name": "LayoutView",
            "align_content": null,
            "align_items": null,
            "align_self": null,
            "border": null,
            "bottom": null,
            "display": null,
            "flex": null,
            "flex_flow": null,
            "grid_area": null,
            "grid_auto_columns": null,
            "grid_auto_flow": null,
            "grid_auto_rows": null,
            "grid_column": null,
            "grid_gap": null,
            "grid_row": null,
            "grid_template_areas": null,
            "grid_template_columns": null,
            "grid_template_rows": null,
            "height": null,
            "justify_content": null,
            "justify_items": null,
            "left": null,
            "margin": null,
            "max_height": null,
            "max_width": null,
            "min_height": null,
            "min_width": null,
            "object_fit": null,
            "object_position": null,
            "order": null,
            "overflow": null,
            "overflow_x": null,
            "overflow_y": null,
            "padding": null,
            "right": null,
            "top": null,
            "visibility": null,
            "width": null
          }
        },
        "f423305633b240c6a87645782d81cfc2": {
          "model_module": "@jupyter-widgets/controls",
          "model_name": "ProgressStyleModel",
          "model_module_version": "1.5.0",
          "state": {
            "_model_module": "@jupyter-widgets/controls",
            "_model_module_version": "1.5.0",
            "_model_name": "ProgressStyleModel",
            "_view_count": null,
            "_view_module": "@jupyter-widgets/base",
            "_view_module_version": "1.2.0",
            "_view_name": "StyleView",
            "bar_color": null,
            "description_width": ""
          }
        },
        "88cf3ac786d84db79219772890a112f9": {
          "model_module": "@jupyter-widgets/base",
          "model_name": "LayoutModel",
          "model_module_version": "1.2.0",
          "state": {
            "_model_module": "@jupyter-widgets/base",
            "_model_module_version": "1.2.0",
            "_model_name": "LayoutModel",
            "_view_count": null,
            "_view_module": "@jupyter-widgets/base",
            "_view_module_version": "1.2.0",
            "_view_name": "LayoutView",
            "align_content": null,
            "align_items": null,
            "align_self": null,
            "border": null,
            "bottom": null,
            "display": null,
            "flex": null,
            "flex_flow": null,
            "grid_area": null,
            "grid_auto_columns": null,
            "grid_auto_flow": null,
            "grid_auto_rows": null,
            "grid_column": null,
            "grid_gap": null,
            "grid_row": null,
            "grid_template_areas": null,
            "grid_template_columns": null,
            "grid_template_rows": null,
            "height": null,
            "justify_content": null,
            "justify_items": null,
            "left": null,
            "margin": null,
            "max_height": null,
            "max_width": null,
            "min_height": null,
            "min_width": null,
            "object_fit": null,
            "object_position": null,
            "order": null,
            "overflow": null,
            "overflow_x": null,
            "overflow_y": null,
            "padding": null,
            "right": null,
            "top": null,
            "visibility": null,
            "width": null
          }
        },
        "166a7651b2cb4a68b461216906f5785b": {
          "model_module": "@jupyter-widgets/controls",
          "model_name": "DescriptionStyleModel",
          "model_module_version": "1.5.0",
          "state": {
            "_model_module": "@jupyter-widgets/controls",
            "_model_module_version": "1.5.0",
            "_model_name": "DescriptionStyleModel",
            "_view_count": null,
            "_view_module": "@jupyter-widgets/base",
            "_view_module_version": "1.2.0",
            "_view_name": "StyleView",
            "description_width": ""
          }
        },
        "2eee72cc8c5f4dc4a156e4c857b4d165": {
          "model_module": "@jupyter-widgets/controls",
          "model_name": "HBoxModel",
          "model_module_version": "1.5.0",
          "state": {
            "_dom_classes": [],
            "_model_module": "@jupyter-widgets/controls",
            "_model_module_version": "1.5.0",
            "_model_name": "HBoxModel",
            "_view_count": null,
            "_view_module": "@jupyter-widgets/controls",
            "_view_module_version": "1.5.0",
            "_view_name": "HBoxView",
            "box_style": "",
            "children": [
              "IPY_MODEL_c3d4fa63d5e14aa6aaad1c1047a2acfe",
              "IPY_MODEL_bb1248dbc4f74a49af535027726456f1",
              "IPY_MODEL_14e7398105984b009933026594708405"
            ],
            "layout": "IPY_MODEL_52e904d85c064301bc97808907eb91a0"
          }
        },
        "c3d4fa63d5e14aa6aaad1c1047a2acfe": {
          "model_module": "@jupyter-widgets/controls",
          "model_name": "HTMLModel",
          "model_module_version": "1.5.0",
          "state": {
            "_dom_classes": [],
            "_model_module": "@jupyter-widgets/controls",
            "_model_module_version": "1.5.0",
            "_model_name": "HTMLModel",
            "_view_count": null,
            "_view_module": "@jupyter-widgets/controls",
            "_view_module_version": "1.5.0",
            "_view_name": "HTMLView",
            "description": "",
            "description_tooltip": null,
            "layout": "IPY_MODEL_db0252e060da499695eafd95c9f8490b",
            "placeholder": "​",
            "style": "IPY_MODEL_f6eda9f8bb4a4bde96ed5d0cb7a3acc0",
            "value": "100%"
          }
        },
        "bb1248dbc4f74a49af535027726456f1": {
          "model_module": "@jupyter-widgets/controls",
          "model_name": "FloatProgressModel",
          "model_module_version": "1.5.0",
          "state": {
            "_dom_classes": [],
            "_model_module": "@jupyter-widgets/controls",
            "_model_module_version": "1.5.0",
            "_model_name": "FloatProgressModel",
            "_view_count": null,
            "_view_module": "@jupyter-widgets/controls",
            "_view_module_version": "1.5.0",
            "_view_name": "ProgressView",
            "bar_style": "success",
            "description": "",
            "description_tooltip": null,
            "layout": "IPY_MODEL_e17298d5f94a4183b117e665cbad691a",
            "max": 50,
            "min": 0,
            "orientation": "horizontal",
            "style": "IPY_MODEL_5ff96cf2e5c74e8bbec3bfa96ffc0191",
            "value": 50
          }
        },
        "14e7398105984b009933026594708405": {
          "model_module": "@jupyter-widgets/controls",
          "model_name": "HTMLModel",
          "model_module_version": "1.5.0",
          "state": {
            "_dom_classes": [],
            "_model_module": "@jupyter-widgets/controls",
            "_model_module_version": "1.5.0",
            "_model_name": "HTMLModel",
            "_view_count": null,
            "_view_module": "@jupyter-widgets/controls",
            "_view_module_version": "1.5.0",
            "_view_name": "HTMLView",
            "description": "",
            "description_tooltip": null,
            "layout": "IPY_MODEL_c0929a90ed3049fca0f8e0e4a2dc22df",
            "placeholder": "​",
            "style": "IPY_MODEL_f80430e196d641b19c00c959baa08551",
            "value": " 50/50 [00:06&lt;00:00,  7.90it/s]"
          }
        },
        "52e904d85c064301bc97808907eb91a0": {
          "model_module": "@jupyter-widgets/base",
          "model_name": "LayoutModel",
          "model_module_version": "1.2.0",
          "state": {
            "_model_module": "@jupyter-widgets/base",
            "_model_module_version": "1.2.0",
            "_model_name": "LayoutModel",
            "_view_count": null,
            "_view_module": "@jupyter-widgets/base",
            "_view_module_version": "1.2.0",
            "_view_name": "LayoutView",
            "align_content": null,
            "align_items": null,
            "align_self": null,
            "border": null,
            "bottom": null,
            "display": null,
            "flex": null,
            "flex_flow": null,
            "grid_area": null,
            "grid_auto_columns": null,
            "grid_auto_flow": null,
            "grid_auto_rows": null,
            "grid_column": null,
            "grid_gap": null,
            "grid_row": null,
            "grid_template_areas": null,
            "grid_template_columns": null,
            "grid_template_rows": null,
            "height": null,
            "justify_content": null,
            "justify_items": null,
            "left": null,
            "margin": null,
            "max_height": null,
            "max_width": null,
            "min_height": null,
            "min_width": null,
            "object_fit": null,
            "object_position": null,
            "order": null,
            "overflow": null,
            "overflow_x": null,
            "overflow_y": null,
            "padding": null,
            "right": null,
            "top": null,
            "visibility": null,
            "width": null
          }
        },
        "db0252e060da499695eafd95c9f8490b": {
          "model_module": "@jupyter-widgets/base",
          "model_name": "LayoutModel",
          "model_module_version": "1.2.0",
          "state": {
            "_model_module": "@jupyter-widgets/base",
            "_model_module_version": "1.2.0",
            "_model_name": "LayoutModel",
            "_view_count": null,
            "_view_module": "@jupyter-widgets/base",
            "_view_module_version": "1.2.0",
            "_view_name": "LayoutView",
            "align_content": null,
            "align_items": null,
            "align_self": null,
            "border": null,
            "bottom": null,
            "display": null,
            "flex": null,
            "flex_flow": null,
            "grid_area": null,
            "grid_auto_columns": null,
            "grid_auto_flow": null,
            "grid_auto_rows": null,
            "grid_column": null,
            "grid_gap": null,
            "grid_row": null,
            "grid_template_areas": null,
            "grid_template_columns": null,
            "grid_template_rows": null,
            "height": null,
            "justify_content": null,
            "justify_items": null,
            "left": null,
            "margin": null,
            "max_height": null,
            "max_width": null,
            "min_height": null,
            "min_width": null,
            "object_fit": null,
            "object_position": null,
            "order": null,
            "overflow": null,
            "overflow_x": null,
            "overflow_y": null,
            "padding": null,
            "right": null,
            "top": null,
            "visibility": null,
            "width": null
          }
        },
        "f6eda9f8bb4a4bde96ed5d0cb7a3acc0": {
          "model_module": "@jupyter-widgets/controls",
          "model_name": "DescriptionStyleModel",
          "model_module_version": "1.5.0",
          "state": {
            "_model_module": "@jupyter-widgets/controls",
            "_model_module_version": "1.5.0",
            "_model_name": "DescriptionStyleModel",
            "_view_count": null,
            "_view_module": "@jupyter-widgets/base",
            "_view_module_version": "1.2.0",
            "_view_name": "StyleView",
            "description_width": ""
          }
        },
        "e17298d5f94a4183b117e665cbad691a": {
          "model_module": "@jupyter-widgets/base",
          "model_name": "LayoutModel",
          "model_module_version": "1.2.0",
          "state": {
            "_model_module": "@jupyter-widgets/base",
            "_model_module_version": "1.2.0",
            "_model_name": "LayoutModel",
            "_view_count": null,
            "_view_module": "@jupyter-widgets/base",
            "_view_module_version": "1.2.0",
            "_view_name": "LayoutView",
            "align_content": null,
            "align_items": null,
            "align_self": null,
            "border": null,
            "bottom": null,
            "display": null,
            "flex": null,
            "flex_flow": null,
            "grid_area": null,
            "grid_auto_columns": null,
            "grid_auto_flow": null,
            "grid_auto_rows": null,
            "grid_column": null,
            "grid_gap": null,
            "grid_row": null,
            "grid_template_areas": null,
            "grid_template_columns": null,
            "grid_template_rows": null,
            "height": null,
            "justify_content": null,
            "justify_items": null,
            "left": null,
            "margin": null,
            "max_height": null,
            "max_width": null,
            "min_height": null,
            "min_width": null,
            "object_fit": null,
            "object_position": null,
            "order": null,
            "overflow": null,
            "overflow_x": null,
            "overflow_y": null,
            "padding": null,
            "right": null,
            "top": null,
            "visibility": null,
            "width": null
          }
        },
        "5ff96cf2e5c74e8bbec3bfa96ffc0191": {
          "model_module": "@jupyter-widgets/controls",
          "model_name": "ProgressStyleModel",
          "model_module_version": "1.5.0",
          "state": {
            "_model_module": "@jupyter-widgets/controls",
            "_model_module_version": "1.5.0",
            "_model_name": "ProgressStyleModel",
            "_view_count": null,
            "_view_module": "@jupyter-widgets/base",
            "_view_module_version": "1.2.0",
            "_view_name": "StyleView",
            "bar_color": null,
            "description_width": ""
          }
        },
        "c0929a90ed3049fca0f8e0e4a2dc22df": {
          "model_module": "@jupyter-widgets/base",
          "model_name": "LayoutModel",
          "model_module_version": "1.2.0",
          "state": {
            "_model_module": "@jupyter-widgets/base",
            "_model_module_version": "1.2.0",
            "_model_name": "LayoutModel",
            "_view_count": null,
            "_view_module": "@jupyter-widgets/base",
            "_view_module_version": "1.2.0",
            "_view_name": "LayoutView",
            "align_content": null,
            "align_items": null,
            "align_self": null,
            "border": null,
            "bottom": null,
            "display": null,
            "flex": null,
            "flex_flow": null,
            "grid_area": null,
            "grid_auto_columns": null,
            "grid_auto_flow": null,
            "grid_auto_rows": null,
            "grid_column": null,
            "grid_gap": null,
            "grid_row": null,
            "grid_template_areas": null,
            "grid_template_columns": null,
            "grid_template_rows": null,
            "height": null,
            "justify_content": null,
            "justify_items": null,
            "left": null,
            "margin": null,
            "max_height": null,
            "max_width": null,
            "min_height": null,
            "min_width": null,
            "object_fit": null,
            "object_position": null,
            "order": null,
            "overflow": null,
            "overflow_x": null,
            "overflow_y": null,
            "padding": null,
            "right": null,
            "top": null,
            "visibility": null,
            "width": null
          }
        },
        "f80430e196d641b19c00c959baa08551": {
          "model_module": "@jupyter-widgets/controls",
          "model_name": "DescriptionStyleModel",
          "model_module_version": "1.5.0",
          "state": {
            "_model_module": "@jupyter-widgets/controls",
            "_model_module_version": "1.5.0",
            "_model_name": "DescriptionStyleModel",
            "_view_count": null,
            "_view_module": "@jupyter-widgets/base",
            "_view_module_version": "1.2.0",
            "_view_name": "StyleView",
            "description_width": ""
          }
        }
      }
    }
  },
  "cells": [
    {
      "cell_type": "code",
      "execution_count": null,
      "metadata": {
        "id": "UzD9SP9ngmRt"
      },
      "outputs": [],
      "source": [
        "!pip install torch opencv-python Pillow\n",
        "!pip install git+https://github.com/openai/CLIP.git\n",
        "!pip install git+https://github.com/facebookresearch/segment-anything.git\n",
        "!pip install diffusers\n",
        "!pip install transformers\n",
        "!pip install accelerate"
      ]
    },
    {
      "cell_type": "code",
      "source": [
        "!git clone https://github.com/eren23/sam-clip-diffusion.git"
      ],
      "metadata": {
        "colab": {
          "base_uri": "https://localhost:8080/"
        },
        "id": "5dmuK6rdg6u3",
        "outputId": "336495d7-09b0-4c6f-f92a-fe7157bf61d0"
      },
      "execution_count": 1,
      "outputs": [
        {
          "output_type": "stream",
          "name": "stdout",
          "text": [
            "Cloning into 'sam-clip-diffusion'...\n",
            "remote: Enumerating objects: 12, done.\u001b[K\n",
            "remote: Counting objects: 100% (12/12), done.\u001b[K\n",
            "remote: Compressing objects: 100% (7/7), done.\u001b[K\n",
            "remote: Total 12 (delta 2), reused 12 (delta 2), pack-reused 0\u001b[K\n",
            "Unpacking objects: 100% (12/12), 2.73 KiB | 1.36 MiB/s, done.\n"
          ]
        }
      ]
    },
    {
      "cell_type": "code",
      "source": [
        "!cd /content/sam-clip-diffusion/samclipdiffusion"
      ],
      "metadata": {
        "id": "kFnXCBp5hV9n"
      },
      "execution_count": 1,
      "outputs": []
    },
    {
      "cell_type": "code",
      "source": [
        "# !pip install ."
      ],
      "metadata": {
        "id": "W6g6LfFSiS9J"
      },
      "execution_count": 11,
      "outputs": []
    },
    {
      "cell_type": "code",
      "source": [
        "import sys\n",
        "sys.path.append('/content/sampath/samclipdiffusion')"
      ],
      "metadata": {
        "id": "Ia7RMgVfl4fx"
      },
      "execution_count": 1,
      "outputs": []
    },
    {
      "cell_type": "code",
      "source": [
        "# from guided_diffusion_pipeline.pipeline import ImageSegmenter"
      ],
      "metadata": {
        "id": "0HGRU7mGh2_U"
      },
      "execution_count": 2,
      "outputs": []
    },
    {
      "cell_type": "code",
      "source": [
        "# sam_clipper = ImageSegmenter()"
      ],
      "metadata": {
        "id": "LRCAc3HqiCQa"
      },
      "execution_count": 3,
      "outputs": []
    },
    {
      "cell_type": "code",
      "source": [
        "# res_img = sam_clipper.segmentation_pipeline(image_path=\"/content/PHOTO-2023-04-09-22-42-55.jpg\", target=\"poodle\")"
      ],
      "metadata": {
        "id": "MMwYWv3xmcdq"
      },
      "execution_count": 4,
      "outputs": []
    },
    {
      "cell_type": "code",
      "source": [
        "# segmenter = ImageSegmenter()\n",
        "\n",
        "# # Define input image path and search text\n",
        "# image_path = '/content/PHOTO-2023-04-09-22-42-55.jpg'\n",
        "# search_text = 'poodle'\n",
        "\n",
        "# # Call the segment_and_retrieve() method\n",
        "# threshold = 0.05  # Optional threshold for relevance score\n",
        "# result_image = segmenter.segment_and_retrieve(image_path, search_text, threshold)\n",
        "\n",
        "# # Display the result image\n",
        "# result_image.show()"
      ],
      "metadata": {
        "id": "TZHFkv1j9KdL"
      },
      "execution_count": null,
      "outputs": []
    },
    {
      "cell_type": "code",
      "source": [
        "# result_image"
      ],
      "metadata": {
        "id": "lTDXAUsI_BR9"
      },
      "execution_count": 4,
      "outputs": []
    },
    {
      "cell_type": "code",
      "source": [
        "import cv2\n",
        "from segment_anything import build_sam, SamAutomaticMaskGenerator\n",
        "from PIL import Image, ImageDraw\n",
        "import clip\n",
        "import torch\n",
        "import numpy as np\n",
        "\n",
        "\n",
        "class ImageSegmenter:\n",
        "    def __init__(self, sam_checkpoint=\"sam_vit_h_4b8939.pth\", clip_model=\"ViT-B/32\"):\n",
        "        self.mask_generator = SamAutomaticMaskGenerator(build_sam(checkpoint=sam_checkpoint))\n",
        "        self.clip_device = torch.device(\"cuda\" if torch.cuda.is_available() else \"cpu\")\n",
        "        self.clip_model, self.clip_preprocess = clip.load(clip_model, device=self.clip_device)\n",
        "\n",
        "    @staticmethod\n",
        "    def convert_box_xywh_to_xyxy(box):\n",
        "        x1 = box[0]\n",
        "        y1 = box[1]\n",
        "        x2 = box[0] + box[2]\n",
        "        y2 = box[1] + box[3]\n",
        "        return [x1, y1, x2, y2]\n",
        "\n",
        "    @staticmethod\n",
        "    def segment_image(image, segmentation_mask):\n",
        "        image_array = np.array(image)\n",
        "        segmented_image_array = np.zeros_like(image_array)\n",
        "        segmented_image_array[segmentation_mask] = image_array[segmentation_mask]\n",
        "        segmented_image = Image.fromarray(segmented_image_array)\n",
        "        black_image = Image.new(\"RGB\", image.size, (0, 0, 0))\n",
        "        transparency_mask = np.zeros_like(segmentation_mask, dtype=np.uint8)\n",
        "        transparency_mask[segmentation_mask] = 255\n",
        "        transparency_mask_image = Image.fromarray(transparency_mask, mode='L')\n",
        "        black_image.paste(segmented_image, mask=transparency_mask_image)\n",
        "        return black_image\n",
        "\n",
        "    def segment_and_retrieve(self, image_path, search_text, threshold=0.05):\n",
        "        # Load image\n",
        "        image = Image.open(image_path)\n",
        "\n",
        "        # Generate masks\n",
        "        masks = self.mask_generator.generate(np.array(image))\n",
        "\n",
        "        # Cut out all masks\n",
        "        cropped_boxes = []\n",
        "        for mask in masks:\n",
        "            cropped_boxes.append(\n",
        "                self.segment_image(image, mask[\"segmentation\"]).crop(self.convert_box_xywh_to_xyxy(mask[\"bbox\"]))\n",
        "            )\n",
        "\n",
        "        # Load CLIP\n",
        "        model, preprocess = self.clip_model, self.clip_preprocess\n",
        "\n",
        "        @torch.no_grad()\n",
        "        def retriev(elements: list[Image.Image], search_text: str) -> int:\n",
        "            preprocessed_images = [preprocess(image).to(self.clip_device) for image in elements]\n",
        "            tokenized_text = clip.tokenize([search_text]).to(self.clip_device)\n",
        "            stacked_images = torch.stack(preprocessed_images)\n",
        "            image_features = model.encode_image(stacked_images)\n",
        "            text_features = model.encode_text(tokenized_text)\n",
        "            image_features /= image_features.norm(dim=-1, keepdim=True)\n",
        "            text_features /= text_features.norm(dim=-1, keepdim=True)\n",
        "            probs = 100. * image_features @ text_features.T\n",
        "            return probs[:, 0].softmax(dim=0)\n",
        "\n",
        "        # Retrieve relevant images\n",
        "        scores = retriev(cropped_boxes, search_text)\n",
        "        indices = [i for i, v in enumerate(scores) if v > threshold]\n",
        "\n",
        "        # Generate overlay image\n",
        "        segmentation_masks = []\n",
        "        for seg_idx in indices:\n",
        "            segmentation_mask_image = Image.fromarray(masks[seg_idx][\"segmentation\"].astype('uint8') * 255)\n",
        "            segmentation_masks.append(segmentation_mask_image)\n",
        "\n",
        "        overlay_image = Image.new('RGBA', image.size, (0, 0, 0, 0))\n",
        "        overlay_color = (255, 0, 0, 200)\n",
        "\n",
        "        draw = ImageDraw.Draw(overlay_image)\n",
        "        for segmentation_mask_image in segmentation_masks:\n",
        "            draw.bitmap((0, 0), segmentation_mask_image, fill=overlay_color)\n",
        "        # Overlay the masks on the original image\n",
        "        result_image = Image.alpha_composite(image.convert('RGBA'), overlay_image)\n",
        "        \n",
        "        return result_image, segmentation_masks\n",
        "\n",
        "    def inpaint_image(self, image_path, search_text, prompt):\n",
        "        from PIL import ImageChops, ImageFilter\n",
        "        from scipy import ndimage\n",
        "        from diffusers import StableDiffusionInpaintPipeline\n",
        "        from functools import reduce\n",
        "\n",
        "        # Load the image\n",
        "        image = Image.open(image_path)\n",
        "\n",
        "        # Call the segment_and_retrieve method to obtain the result image with segmentation masks\n",
        "        result_image, segmentation_masks = self.segment_and_retrieve(image_path, search_text)\n",
        "\n",
        "        # Merge masks\n",
        "        merged_mask = reduce(ImageChops.add, segmentation_masks)\n",
        "        # merged_mask = ImageChops.add(segmentation_masks[0] , segmentation_masks[1])\n",
        "\n",
        "        # Convert the binary mask image to a numpy array\n",
        "        mask_array = np.array(merged_mask)\n",
        "\n",
        "        # Define a structuring element for morphological operations\n",
        "        structuring_element = ndimage.generate_binary_structure(2, 2)\n",
        "\n",
        "        # Perform erosion to remove small isolated pixels\n",
        "        eroded_mask = ndimage.binary_erosion(mask_array, structure=structuring_element, iterations=2)\n",
        "\n",
        "        # Perform dilation to fill small holes in the object masks\n",
        "        dilated_mask = ndimage.binary_dilation(eroded_mask, structure=structuring_element, iterations=2)\n",
        "\n",
        "        # Convert the numpy array back to a PIL image\n",
        "        filtered_mask = Image.fromarray(np.uint8(dilated_mask) * 255)\n",
        "\n",
        "        image_source_for_inpaint = image.resize((512, 512))\n",
        "        image_mask_for_inpaint = filtered_mask.resize((512, 512))\n",
        "\n",
        "        pipe = StableDiffusionInpaintPipeline.from_pretrained(\n",
        "            \"stabilityai/stable-diffusion-2-inpainting\",\n",
        "            torch_dtype=torch.float16,\n",
        "        )\n",
        "\n",
        "        pipe = pipe.to(\"cuda\")\n",
        "\n",
        "        image_inpainting = pipe(prompt=prompt, image=image_source_for_inpaint, mask_image=image_mask_for_inpaint).images[0]\n",
        "\n",
        "        image_inpainting = image_inpainting.resize((image.size[0], image.size[1]))\n",
        "\n",
        "        return image_inpainting\n",
        "        "
      ],
      "metadata": {
        "id": "wAzfs6xlTO3G"
      },
      "execution_count": 1,
      "outputs": []
    },
    {
      "cell_type": "code",
      "source": [
        "segmenter_inp = ImageSegmenter()\n",
        "\n",
        "# Define the image path, search text, and prompt\n",
        "image_path = '/content/PHOTO-2023-04-09-22-42-55.jpg'\n",
        "search_text = \"poodle\"\n",
        "prompt = \"tiger\"\n",
        "\n",
        "# Call the inpaint_image method\n",
        "inpainted_image = segmenter_inp.inpaint_image(image_path, search_text, prompt)"
      ],
      "metadata": {
        "colab": {
          "base_uri": "https://localhost:8080/",
          "height": 137,
          "referenced_widgets": [
            "b7333fc71c3c462fabd0e01d71c02b38",
            "592d0fc9542a44f2bd07386234e6f37b",
            "c93e626c0aaa4aeda7abf45dad18e729",
            "ea8e803a5fb34a3ab3c962dc24079c14",
            "2333dda994d948e6bb46a3277467a590",
            "cebe4a9b8c9e444194be3fa86dc0908a",
            "571ae963e60e4dce89e002896150375a",
            "00a168eac61042238f6d63e4c117089b",
            "f423305633b240c6a87645782d81cfc2",
            "88cf3ac786d84db79219772890a112f9",
            "166a7651b2cb4a68b461216906f5785b",
            "2eee72cc8c5f4dc4a156e4c857b4d165",
            "c3d4fa63d5e14aa6aaad1c1047a2acfe",
            "bb1248dbc4f74a49af535027726456f1",
            "14e7398105984b009933026594708405",
            "52e904d85c064301bc97808907eb91a0",
            "db0252e060da499695eafd95c9f8490b",
            "f6eda9f8bb4a4bde96ed5d0cb7a3acc0",
            "e17298d5f94a4183b117e665cbad691a",
            "5ff96cf2e5c74e8bbec3bfa96ffc0191",
            "c0929a90ed3049fca0f8e0e4a2dc22df",
            "f80430e196d641b19c00c959baa08551"
          ]
        },
        "id": "iwxMOrUTB8Cm",
        "outputId": "75d40dd1-0b4a-49f6-dd72-c315370108ea"
      },
      "execution_count": 2,
      "outputs": [
        {
          "output_type": "display_data",
          "data": {
            "text/plain": [
              "Fetching 13 files:   0%|          | 0/13 [00:00<?, ?it/s]"
            ],
            "application/vnd.jupyter.widget-view+json": {
              "version_major": 2,
              "version_minor": 0,
              "model_id": "b7333fc71c3c462fabd0e01d71c02b38"
            }
          },
          "metadata": {}
        },
        {
          "output_type": "stream",
          "name": "stderr",
          "text": [
            "/usr/local/lib/python3.9/dist-packages/transformers/models/clip/feature_extraction_clip.py:28: FutureWarning: The class CLIPFeatureExtractor is deprecated and will be removed in version 5 of Transformers. Please use CLIPImageProcessor instead.\n",
            "  warnings.warn(\n"
          ]
        },
        {
          "output_type": "display_data",
          "data": {
            "text/plain": [
              "  0%|          | 0/50 [00:00<?, ?it/s]"
            ],
            "application/vnd.jupyter.widget-view+json": {
              "version_major": 2,
              "version_minor": 0,
              "model_id": "2eee72cc8c5f4dc4a156e4c857b4d165"
            }
          },
          "metadata": {}
        }
      ]
    },
    {
      "cell_type": "code",
      "source": [
        "inpainted_image"
      ],
      "metadata": {
        "id": "VF2oaOTvK0VH"
      },
      "execution_count": null,
      "outputs": []
    }
  ]
}